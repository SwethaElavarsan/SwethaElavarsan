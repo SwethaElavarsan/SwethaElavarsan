{
  "nbformat": 4,
  "nbformat_minor": 0,
  "metadata": {
    "colab": {
      "provenance": [],
      "toc_visible": true,
      "authorship_tag": "ABX9TyPnwc5KtiHREeFev5KO5sA7",
      "include_colab_link": true
    },
    "kernelspec": {
      "name": "python3",
      "display_name": "Python 3"
    },
    "language_info": {
      "name": "python"
    }
  },
  "cells": [
    {
      "cell_type": "markdown",
      "metadata": {
        "id": "view-in-github",
        "colab_type": "text"
      },
      "source": [
        "<a href=\"https://colab.research.google.com/github/SwethaElavarsan/SwethaElavarsan/blob/main/TIME%20ADDING.ipynb\" target=\"_parent\"><img src=\"https://colab.research.google.com/assets/colab-badge.svg\" alt=\"Open In Colab\"/></a>"
      ]
    },
    {
      "cell_type": "code",
      "execution_count": null,
      "metadata": {
        "id": "QEXefrmS4Dll"
      },
      "outputs": [],
      "source": [
        "def add_time(time_1,time_2):\n",
        "  while noon==\"AM\":\n",
        "    hour=(h1+h2)\n",
        "    minute=(m1+m2)\n",
        "    if hour<13:\n",
        "      if minute<60:\n",
        "        print(hour,\":\",minute,\"AM\")\n",
        "    else:\n",
        "      if hour==13:\n",
        "        hour=1\n",
        "      elif hour==14:\n",
        "          hour=2\n",
        "      elif hour==15:\n",
        "            hour=3\n",
        "      elif hour==16:\n",
        "              hour=4\n",
        "      elif hour==17:\n",
        "                hour=5\n",
        "      elif hour==18:\n",
        "        hour=6\n",
        "      elif hour==19:\n",
        "        hour=7\n",
        "      elif hour==20:\n",
        "        hour=8\n",
        "      elif hour==21:\n",
        "        hour=9\n",
        "      elif hour==22:\n",
        "        hour=10\n",
        "      elif hour==23:\n",
        "        hour=11\n",
        "      print(hour,\":\",minute,\"PM\")\n",
        "\n",
        "\n",
        "\n",
        "\n",
        "\n",
        "\n",
        "h1=int(input(\"enter a hour: \"))\n",
        "m1=int(input(\"enter a minute: \"))\n",
        "noon=str(input(\"enter a noon: \"))\n",
        "if h1<=12:\n",
        "    if m1<=59:\n",
        "        if noon=='AM' or 'PM':\n",
        "            time_1=print(h1, \":\" ,m1,noon)\n",
        "else:\n",
        "  print(\"invalid format\")\n",
        "h2=int(input(\"enter a hour: \"))\n",
        "m2=int(input(\"enter a minute: \"))\n",
        "if h2<=12:\n",
        "    if m2<=59:\n",
        "            time_2=print(h2, \":\" ,m2)\n",
        "else:\n",
        "  print(\"invalid format\")\n",
        "\n",
        "add_time(time_1,time_2)"
      ]
    }
  ]
}