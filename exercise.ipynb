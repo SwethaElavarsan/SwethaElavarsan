{
  "nbformat": 4,
  "nbformat_minor": 0,
  "metadata": {
    "colab": {
      "provenance": [],
      "authorship_tag": "ABX9TyNphthFwunETDkutwuJS6aT",
      "include_colab_link": true
    },
    "kernelspec": {
      "name": "python3",
      "display_name": "Python 3"
    },
    "language_info": {
      "name": "python"
    }
  },
  "cells": [
    {
      "cell_type": "markdown",
      "metadata": {
        "id": "view-in-github",
        "colab_type": "text"
      },
      "source": [
        "<a href=\"https://colab.research.google.com/github/SwethaElavarsan/SwethaElavarsan/blob/main/exercise.ipynb\" target=\"_parent\"><img src=\"https://colab.research.google.com/assets/colab-badge.svg\" alt=\"Open In Colab\"/></a>"
      ]
    },
    {
      "cell_type": "markdown",
      "source": [
        "#Username_Validation"
      ],
      "metadata": {
        "id": "UDqVFGoRwxf8"
      }
    },
    {
      "cell_type": "markdown",
      "source": [
        "1. The username is between 4 and 25 characters.\n",
        "2. It must start with a letter.\n",
        "3. It can only contain letters, numbers, and the underscore character.\n",
        "4. It cannot end with an underscore character.\n",
        "\n",
        "If the username is valid then your program should return the string true, otherwise return the string false."
      ],
      "metadata": {
        "id": "C6BKElJDBlGM"
      }
    },
    {
      "cell_type": "code",
      "source": [
        "def CodelandUsernameValidation(str):\n",
        "  if(len(str)>=4 and len(str)<=25): # The username is between 4 and 25 characters\n",
        "    if(str[0] != '_' and str[-1] != '_'): #It cannot end with an underscore character.\n",
        "     if(str[0].isalpha and str[0].isnotdigit): # It must start with a letter.\n",
        "      for i in str:\n",
        "        if(i.isalpha or i.idigit or i=='_'): # It can only contain letters, numbers, and the underscore character.\n",
        "         return \"True\"\n",
        "  else:\n",
        "    return \"False\"\n",
        "  return str\n",
        "print(CodelandUsernameValidation(input()))"
      ],
      "metadata": {
        "id": "gmrSw7gsyLu9"
      },
      "execution_count": null,
      "outputs": []
    },
    {
      "cell_type": "code",
      "execution_count": null,
      "metadata": {
        "colab": {
          "base_uri": "https://localhost:8080/"
        },
        "id": "qoFNgR6knmFw",
        "outputId": "aea18272-97d2-4500-8db6-255fbd888c24"
      },
      "outputs": [
        {
          "output_type": "stream",
          "name": "stdout",
          "text": [
            "\"aaa_\"\n",
            "false\n"
          ]
        }
      ],
      "source": [
        "\n",
        "def CodelandUsernameValidation(str):\n",
        "  # code goes here\n",
        "  if len(str) >= 4 and len(str) <= 25 and str[0].isalpha() and str[-1] !='_':\n",
        "    for i in str:\n",
        "      if i.isalpha() or i.isdigit() or i =='_':\n",
        "        return 'true'\n",
        "  else:\n",
        "    return 'false'\n",
        "# keep this function call here\n",
        "print (CodelandUsernameValidation(input()))"
      ]
    },
    {
      "cell_type": "code",
      "source": [
        "##Solutions for Codeland Username Validation\n",
        "\n",
        "function CodelandUsernameValidation(str) {\n",
        "  const valid_reg = /^[A-Za-z]\\w+[A-Za-z0-9]$/;\n",
        "  const valid_length = (str) => str.length >= 4 && str.length <= 25;\n",
        "  return valid_reg.test(str) && valid_length(str);\n",
        "}\n",
        "\n",
        "console.log(CodelandUsernameValidation(readline()));\n",
        "\n",
        "\n",
        "function CodelandUsernameValidation(str) {\n",
        "  const regex = /^[a-zA-Z][a-zA-Z0-9_]*[^_]$/g\n",
        "  return str.length >= 4 && str.length <= 25 && regex.test(str)\n",
        "}\n",
        "\n",
        "// keep this function call here\n",
        "console.log(CodelandUsernameValidation(readline()));\n",
        "\n",
        "RobStallion received 10 points | Run code\n",
        "15\n",
        "function CodelandUsernameValidation(str) {\n",
        "  let userRegex = /^[a-z]{1}\\w{2,23}[a-z|\\d]{1}$/ig;\n",
        "  return userRegex.test(str)\n",
        "}\n",
        "\n",
        "// keep this function call here\n",
        "console.log(CodelandUsernameValidation(readline()));\n",
        "\n",
        "Lavetchka received 10 points | Run code\n",
        "14\n",
        "function CodelandUsernameValidation(str) {\n",
        "\n",
        "  if (str.length < 4 || str.length > 25) return false;\n",
        "  if (str.charAt(str.length - 1) === '_') return false\n",
        "  if (!startsWithLetter(str.charAt(0))) return false;\n",
        "\n",
        "  for (const letter of str) {\n",
        "    if (!isAlphaNumericOrUnderscore(letter)) return false;\n",
        "  }\n",
        "\n",
        "  return true;\n",
        "\n",
        "}\n",
        "\n",
        "function startsWithLetter(char) {\n",
        "  const letter = /^[a-zA-Z]+$/;\n",
        "  return char.match(letter) ? true : false;\n",
        "}\n",
        "\n",
        "function isAlphaNumericOrUnderscore(char) {\n",
        "  const letterNumber = /^[0-9a-zA-Z]+$/;\n",
        "  return (char.match(letterNumber) || char === '_') ? true : false;\n",
        "}\n",
        "\n",
        "// keep this function call here\n",
        "console.log(CodelandUsernameValidation(readline()));\n",
        "\n",
        "lbeezyeazy received 10 points | Run code\n",
        "5\n",
        "function CodelandUsernameValidation(str) {\n",
        "\n",
        "  if(str.length>=4 && str.length<=25){\n",
        "    c = str[0];\n",
        "    if(c.toLowerCase() != c.toUpperCase()){\n",
        "      if(str.charAt(str.length-1) !== \"_\"){\n",
        "        str = true;\n",
        "      }\n",
        "      else{\n",
        "        str = false;\n",
        "      }\n",
        "    }\n",
        "    else{\n",
        "      str = false;\n",
        "    }\n",
        "  }\n",
        "  else{\n",
        "    str = false;\n",
        "  }\n",
        "  return str;\n",
        "}\n",
        "\n",
        "// keep this function call here\n",
        "console.log(CodelandUsernameValidation(readline()));\n",
        "\n",
        "Beepsies received 10 points | Run code\n",
        "2\n",
        "function CodelandUsernameValidation(str) {\n",
        "\n",
        "  if (\n",
        "    str.length >= 4 &&\n",
        "    str.length <= 25 &&\n",
        "    str[0].match(/[a-z]/i) &&\n",
        "    str.match(/^\\w+$/) &&\n",
        "    str[str.length - 1].match(/[a-zA-Z0-9.-]/)) {\n",
        "      return true;\n",
        "  } else {\n",
        "    return false;\n",
        "  }\n",
        "\n",
        "}\n",
        "console.log(CodelandUsernameValidation(readline()));\n",
        "\n",
        "function CodelandUsernameValidation(str) {\n",
        "  const letters = 'abcdefghijklmnopqrstuvwxyz'\n",
        "  const us = '_';\n",
        "  const nums = '01234567890';\n",
        "  const additionalAllowedChars = nums + us;\n",
        "  const all = [letters, additionalAllowedChars].join('')\n",
        "  const validations = [\n",
        "    (v) => v.length >= 4 && v.length <= 25,\n",
        "    (v) => letters.indexOf(v[0]) > -1,\n",
        "    (v) => v.split('').every(char => all.indexOf(char) > -1),\n",
        "    (v) => v[v.length - 1] !== us,\n",
        "  ]\n",
        "  if (validations.every(validator => validator(str))) {\n",
        "    return 'true';\n",
        "  }\n",
        "  return 'false';\n",
        "\n",
        "\n",
        "  // code goes here\n",
        "\n",
        "}\n",
        "\n",
        "// keep this function call here\n",
        "console.log(CodelandUsernameValidation(readline()));\n",
        "\n",
        "yogsky received 10 points | Run code\n",
        "2\n",
        "function CodelandUsernameValidation(str) {\n",
        "\n",
        "  var nameRegex = /^[a-zA-Z]([a-zA-Z0-9_]*[a-zA-Z0-9])?$/;\n",
        "  // code goes here\n",
        "  if ((str.length > 3) && (str.length < 26)){\n",
        "    if(str.match(nameRegex)){\n",
        "          return true;\n",
        "    }\n",
        "  }\n",
        "  return false;\n",
        "\n",
        "}\n",
        "\n",
        "// keep this function call here\n",
        "console.log(CodelandUsernameValidation(readline()));"
      ],
      "metadata": {
        "id": "1RgHCYCgs6g8"
      },
      "execution_count": null,
      "outputs": []
    },
    {
      "cell_type": "markdown",
      "source": [
        "#Bracket Combinations"
      ],
      "metadata": {
        "id": "MfesfH3J-fxy"
      }
    },
    {
      "cell_type": "markdown",
      "source": [
        "BracketCombinations(num) read num which will be an integer greater than or equal to zero, and return the number of valid combinations that can be formed with num pairs of parentheses. For example, if the input is 3, then the possible combinations of 3 pairs of parenthesis, namely: ()()(), are ()()(), ()(()), (())(), ((())), and (()()). There are 5 total combinations when the input is 3, so your program should return 5.\n",
        "Input: 3\n",
        "Output: 5"
      ],
      "metadata": {
        "id": "ypMRf8ahBUva"
      }
    },
    {
      "cell_type": "code",
      "source": [
        "def BracketCombinations(num):\n",
        "    def bracket_checker(seq):\n",
        "        opening = 0\n",
        "        closing = 0\n",
        "\n",
        "        for br in seq:\n",
        "            if br == \"(\":\n",
        "                opening += 1\n",
        "            if br == \")\":\n",
        "                if opening == 0:\n",
        "                    return False\n",
        "                else:\n",
        "                    opening -= 1\n",
        "        return True if opening == 0 else False\n",
        "\n",
        "    brackets = []\n",
        "    last = ['(']\n",
        "    if num == 0:\n",
        "        return 1\n",
        "    for _ in range(2*num-1):\n",
        "        nxt = []\n",
        "        for br in last:\n",
        "            nxt.append(br + '(')\n",
        "            nxt.append(br + ')')\n",
        "        last = nxt\n",
        "    return sum([1 if bracket_checker(br) else 0 for br in last])\n",
        "\n",
        "# keep this function call here\n",
        "print BracketCombinations(raw_input())"
      ],
      "metadata": {
        "id": "YxGkNMtR-hcr"
      },
      "execution_count": null,
      "outputs": []
    },
    {
      "cell_type": "code",
      "source": [
        "def fact(n):\n",
        "    result = 1\n",
        "    for x in range(1, n+1):\n",
        "        result *= x\n",
        "    return result\n",
        "def BracketCombinations(num):\n",
        "\n",
        "    # code goes here\n",
        "    return fact(2 * num)/(fact(num + 1)*fact(num))\n",
        "\n",
        "# keep this function call here\n",
        "print BracketCombinations(raw_input())"
      ],
      "metadata": {
        "id": "vxt-TH0b-wPC"
      },
      "execution_count": null,
      "outputs": []
    },
    {
      "cell_type": "code",
      "source": [
        "\n",
        "0\n",
        "def bc(numb, openb, closeb):\n",
        "  if (closeb==numb): return 1\n",
        "  cnt = 0\n",
        "  if (openb<numb):   cnt += bc(numb, openb+1, closeb)\n",
        "  if (closeb<openb): cnt += bc(numb, openb, closeb+1)\n",
        "  return cnt\n",
        "\n",
        "def BracketCombinations(num):\n",
        "  return bc(num,0,0)\n",
        "\n",
        "# keep this function call here\n",
        "print BracketCombinations(raw_input())"
      ],
      "metadata": {
        "id": "MzyzH5Sv-8uM"
      },
      "execution_count": null,
      "outputs": []
    },
    {
      "cell_type": "code",
      "source": [
        "def BracketCombinations(num):\n",
        "  arr = [1]\n",
        "  for i in xrange(1, num):\n",
        "      for j in xrange(1, i):\n",
        "          arr[j] += arr[j-1]\n",
        "      arr.append(arr[-1])\n",
        "  return sum(arr)\n",
        "\n",
        "\n",
        "# keep this function call here\n",
        "print BracketCombinations(raw_input())"
      ],
      "metadata": {
        "id": "x_l6N8aa_B_r"
      },
      "execution_count": null,
      "outputs": []
    },
    {
      "cell_type": "markdown",
      "source": [
        "#Longest Word"
      ],
      "metadata": {
        "id": "tj-deoxZ_vWh"
      }
    },
    {
      "cell_type": "markdown",
      "source": [
        "LongestWord(sen) take the sen parameter being passed and return the longest word in the string. If there are two or more words that are the same length, return the first word from the string with that length. Ignore punctuation and assume sen will not be empty. Words may also contain numbers, for example \"Hello world123 567\"\n",
        "Input: \"I love dogs\"\n",
        "Output: love\n"
      ],
      "metadata": {
        "id": "_oJMLuSXBJ14"
      }
    },
    {
      "cell_type": "code",
      "source": [
        "def LongestWord(sen):\n",
        "\n",
        "    # code goes here\n",
        "    maxindex = 0\n",
        "    count = 0\n",
        "    maxcount = 0\n",
        "\n",
        "    array = sen.split()\n",
        "    for index in range(len(array)):\n",
        "      array[index] = ''.join(filter(str.isalpha,  array[index]))\n",
        "      #print(array[index])\n",
        "      letters = len(array[index])\n",
        "      if letters > maxcount:\n",
        "        maxcount = letters\n",
        "        maxindex = index\n",
        "\n",
        "\n",
        "      #print(letters)\n",
        "\n",
        "    return array[maxindex]\n",
        "\n",
        "# keep this function call here\n",
        "print(LongestWord(input()))"
      ],
      "metadata": {
        "id": "-Mj5N2H8AqFJ"
      },
      "execution_count": null,
      "outputs": []
    },
    {
      "cell_type": "code",
      "source": [
        "import string\n",
        "def LongestWord(sen):\n",
        "  for char in string.punctuation:\n",
        "    sen = sen.replace(char, '')\n",
        "  wordslist = sen.split()\n",
        "  #wordssorted = sorted(wordslist, key=len)\n",
        "  # code goes here\n",
        "  return max(wordslist, key=len)\n",
        "\n",
        "# keep this function call here\n",
        "print(LongestWord(input()))"
      ],
      "metadata": {
        "id": "w8JaU-p5Ad2A"
      },
      "execution_count": null,
      "outputs": []
    },
    {
      "cell_type": "code",
      "source": [
        "def LongestWord(sen):\n",
        "    max = 0\n",
        "    for word in sen.split():\n",
        "      if (len(word) > max  and word.isalpha()):\n",
        "        max = len(word)\n",
        "        largest = word\n",
        "      # code goes here\n",
        "    return largest\n",
        "\n",
        "# keep this function call here\n",
        "print(LongestWord(input()))"
      ],
      "metadata": {
        "id": "dXcb3JxzAWGI"
      },
      "execution_count": null,
      "outputs": []
    },
    {
      "cell_type": "code",
      "source": [
        "def LongestWord(sen):\n",
        "    nw = \"\"\n",
        "    for letter in sen:\n",
        "      if letter.isalpha() or letter.isnumeric():\n",
        "        nw += letter\n",
        "      else :\n",
        "        nw += \" \"\n",
        "    return max(nw.split(),key=len)\n",
        "print(LongestWord(input()))"
      ],
      "metadata": {
        "id": "AewMtULMANMQ"
      },
      "execution_count": null,
      "outputs": []
    },
    {
      "cell_type": "code",
      "source": [
        "import re\n",
        "pattern = re.compile(r'\\W+')\n",
        "def LongestWord(sen):\n",
        "    x = pattern.split(sen)\n",
        "    return max(x, key=len)\n",
        "\n",
        "# keep this function call here\n",
        "print(LongestWord(input()))"
      ],
      "metadata": {
        "id": "LJ_tDT3jAICb"
      },
      "execution_count": null,
      "outputs": []
    },
    {
      "cell_type": "code",
      "source": [
        "def LongestWord(sen):\n",
        "    senlist=sen.split()\n",
        "    return max(senlist,key=len)\n",
        "    # code goes here\n",
        "    #return sen\n",
        "\n",
        "# keep this function call here\n",
        "print LongestWord(raw_input())"
      ],
      "metadata": {
        "id": "6ja208zo_5X_"
      },
      "execution_count": null,
      "outputs": []
    },
    {
      "cell_type": "code",
      "source": [
        "def LongestWord(sen):\n",
        "\n",
        "    # code goes here\n",
        "    return max(sen.translate(None, \"~!@#$%^&*()-_+={}[]:;'<>?/,.|`\").split(), key=len)\n",
        "\n",
        "# keep this function call here\n",
        "print LongestWord(raw_input())"
      ],
      "metadata": {
        "id": "7791cXcB_w7n"
      },
      "execution_count": null,
      "outputs": []
    },
    {
      "cell_type": "markdown",
      "source": [
        "Input:\"2aabbcbbbadef\"\n",
        "Output:\"bbcbbb\""
      ],
      "metadata": {
        "id": "xf3hKDebDLO6"
      }
    },
    {
      "cell_type": "code",
      "source": [
        "def KUniqueCharacters(string):\n",
        "    k = int(string[0])\n",
        "    temp_word = word = string[1:k+1]\n",
        "    word_end = k\n",
        "    while word_end < len(string) - 1:\n",
        "        if len(set(temp_word)) <= k:\n",
        "            if len(temp_word) > len(word):\n",
        "                word = temp_word\n",
        "            word_end += 1\n",
        "            temp_word = temp_word + string[word_end]\n",
        "        else:\n",
        "            temp_word = temp_word[1:len(temp_word)]\n",
        "    if len(temp_word) > len(word):\n",
        "        word = temp_word\n",
        "    return word"
      ],
      "metadata": {
        "id": "bbxvLWpADKWp"
      },
      "execution_count": null,
      "outputs": []
    },
    {
      "cell_type": "markdown",
      "source": [],
      "metadata": {
        "id": "4YiTdai_SWLP"
      }
    },
    {
      "cell_type": "code",
      "source": [
        "import re\n",
        "def MinWindowSubstring(strArr):\n",
        "  if len(strArr) == 2:\n",
        "    for i in strArr:\n",
        "      i in '[a-z]+'\n",
        "      1 < len(i) >=50\n",
        "      N=strArr[0]\n",
        "      K=strArr[1]\n",
        "      if K in N:\n",
        "        print(i in strArr,'[^strArr.]' or '[strArr.$]')\n",
        "  # code goes here\n",
        "        return strArr\n",
        "\n",
        "# keep this function call here\n",
        "print(MinWindowSubstring(input()))"
      ],
      "metadata": {
        "id": "1_8udpJXSWtP"
      },
      "execution_count": null,
      "outputs": []
    },
    {
      "cell_type": "code",
      "source": [
        "import re\n",
        "def MinWindowSubstring(inStrArr):\n",
        "    uniqChar = set(inStrArr[1])\n",
        "    i = len(uniqChar)\n",
        "    while i <= len(inStrArr[0]):\n",
        "        for j in range(len(inStrArr[0])-i+1):\n",
        "            if int(''.join(['0' if len(re.findall(s,inStrArr[0][j:j+i])) >= len(re.findall(s,inStrArr[1])) else '1'  for s in uniqChar])) == 0:\n",
        "                return inStrArr[0][j:j+i]\n",
        "        i = i+1\n",
        "print MinWindowSubstring(raw_input())"
      ],
      "metadata": {
        "id": "8RvfZ7NPd3YU"
      },
      "execution_count": null,
      "outputs": []
    },
    {
      "cell_type": "code",
      "source": [
        "def MinWindowSubstring(strArr):\n",
        "    smallest = strArr[0]\n",
        "    array = []\n",
        "    for i in range(0,len(strArr[0])):\n",
        "        for c in range(1,len(strArr[0])+1):\n",
        "            if len(strArr[0][i:c])>0:\n",
        "                array.append((strArr[0][i:c]))\n",
        "    test = []\n",
        "    for i in strArr[1]:\n",
        "        test.append(i)\n",
        "    test.sort()\n",
        "    #array = [\"aksfaje\"]\n",
        "    current = []\n",
        "    minimum = strArr[0]\n",
        "   # print(array)\n",
        "    for i in array:\n",
        "        for c in i:\n",
        "            if c in test and test.count(c) > current.count(c):\n",
        "                current.append(c)\n",
        "        current.sort()\n",
        "        if current == test and len(i) < len(minimum):\n",
        "            #print(i)\n",
        "            minimum = i\n",
        "            #print(test)\n",
        "            #print(current)\n",
        "        current = []\n",
        "    return minimum\n",
        "#\n",
        "print MinWindowSubstring(raw_input())"
      ],
      "metadata": {
        "id": "vnS8myU4eAv0"
      },
      "execution_count": null,
      "outputs": []
    },
    {
      "cell_type": "markdown",
      "source": [
        "date and time"
      ],
      "metadata": {
        "id": "a76ZXYAU1ObS"
      }
    },
    {
      "cell_type": "code",
      "source": [
        "from datetime import time\n",
        "time1 = datetime.time(13,27,45,4600)\n",
        "print(time1)\n",
        "from datetime import date\n",
        "date1 = datetime.date(2022,3,27)\n",
        "print(date1)\n",
        "\n",
        "# Output: 2022-03-27\n",
        "\n",
        "# Output: 13:27:45.004600\n",
        "dt1 = datetime.datetime(2022,3,27,13,27,45,46000)\n",
        "print(dt1)\n",
        "\n",
        "# Output: 2022-03-27 13:27:45.046000"
      ],
      "metadata": {
        "id": "qGrDwBtt1Pfn"
      },
      "execution_count": null,
      "outputs": []
    },
    {
      "cell_type": "markdown",
      "source": [
        "_calculation"
      ],
      "metadata": {
        "id": "uyzhKT-Zxf51"
      }
    },
    {
      "cell_type": "code",
      "source": [
        "# This function adds two numbers\n",
        "def add(x, y):\n",
        "    return x + y\n",
        "\n",
        "# This function subtracts two numbers\n",
        "def subtract(x, y):\n",
        "    return x - y\n",
        "\n",
        "# This function multiplies two numbers\n",
        "def multiply(x, y):\n",
        "    return x * y\n",
        "\n",
        "# This function divides two numbers\n",
        "def divide(x, y):\n",
        "    return x / y\n",
        "\n",
        "\n",
        "print(\"Select operation.\")\n",
        "print(\"1.Add\")\n",
        "print(\"2.Subtract\")\n",
        "print(\"3.Multiply\")\n",
        "print(\"4.Divide\")\n",
        "\n",
        "while True:\n",
        "    # take input from the user\n",
        "    choice = input(\"Enter choice(1/2/3/4): \")\n",
        "\n",
        "    # check if choice is one of the four options\n",
        "    if choice in ('1', '2', '3', '4'):\n",
        "        try:\n",
        "            num1 = float(input(\"Enter first number: \"))\n",
        "            num2 = float(input(\"Enter second number: \"))\n",
        "        except ValueError:\n",
        "            print(\"Invalid input. Please enter a number.\")\n",
        "            continue\n",
        "\n",
        "        if choice == '1':\n",
        "            print(num1, \"+\", num2, \"=\", add(num1, num2))\n",
        "\n",
        "        elif choice == '2':\n",
        "            print(num1, \"-\", num2, \"=\", subtract(num1, num2))\n",
        "\n",
        "        elif choice == '3':\n",
        "            print(num1, \"*\", num2, \"=\", multiply(num1, num2))\n",
        "\n",
        "        elif choice == '4':\n",
        "            print(num1, \"/\", num2, \"=\", divide(num1, num2))\n",
        "\n",
        "        # check if user wants another calculation\n",
        "        # break the while loop if answer is no\n",
        "        next_calculation = input(\"Let's do next calculation? (yes/no): \")\n",
        "        if next_calculation == \"no\":\n",
        "          break\n",
        "    else:\n",
        "        print(\"Invalid Input\")"
      ],
      "metadata": {
        "id": "4qUtwtUPxe53"
      },
      "execution_count": null,
      "outputs": []
    },
    {
      "cell_type": "markdown",
      "source": [
        "How to find time difference between two dates"
      ],
      "metadata": {
        "id": "wMq4DolE0elV"
      }
    },
    {
      "cell_type": "code",
      "source": [
        "tdays = time_diff.days\n",
        "print(f\"Your birthday is in {tdays} days.\")\n",
        "\n",
        "\n",
        "#Your birthday is in 220 days\n",
        "tsecs = time_diff.total_seconds()\n",
        "print(f\"Your birthday is {tsecs} seconds away.\")\n",
        "\n",
        "#Your birthday is 19017960.127416 seconds away.\n",
        "today = datetime.datetime.now()\n",
        "print(today)\n",
        "\n",
        "# Sample Output: 2022-01-22 09:10:18.489538\n",
        "bday = datetime.datetime(2022,8,30,11,59)\n",
        "print(bday)\n",
        "\n",
        "# Sample Output: 2022-08-30 11:59:00\n",
        "time_diff = bday - today\n",
        "print(f\"Your birthday is in {time_diff}\")\n",
        "\n",
        "# Output\n",
        "Your birthday is in 220 days, 2:46:00.127416\n",
        "tdays = time_diff.days\n",
        "print(f\"Your birthday is in {tdays} days.\")\n",
        "\n",
        "# Output\n",
        "Your birthday is in 220 days.\n"
      ],
      "metadata": {
        "id": "71dfdaTxz3zt"
      },
      "execution_count": null,
      "outputs": []
    },
    {
      "cell_type": "markdown",
      "source": [
        "How to use timedelta object in Python\n",
        "In Python, timedelta denotes a span of time. It’s the difference between two date, time, or datetime objects.\n",
        "\n",
        "If you add or subtract two date, time, or datetime objects, you’ll get a timedelta object. This timedelta object has useful attributes and methods that can help calculate the time difference.\n",
        "\n",
        "Let’s go ahead and calculate the difference between the two datetime objects dt1 and dt2."
      ],
      "metadata": {
        "id": "tv2xewg0z27e"
      }
    },
    {
      "cell_type": "code",
      "source": [
        "dt1 = datetime.datetime(2022,3,27,13,27,45,46000)\n",
        "dt2 = datetime.datetime(2022,6,30,14,28)\n",
        "tdelta = dt2 - dt1\n",
        "print(tdelta)\n",
        "print(type(tdelta))\n",
        "\n",
        "# Output\n",
        "95 days, 1:00:14.954000\n",
        "<class 'datetime.timedelta'>"
      ],
      "metadata": {
        "id": "R8tzCsYk0r5a"
      },
      "execution_count": null,
      "outputs": []
    },
    {
      "cell_type": "markdown",
      "source": [
        "How to create a datetime object in Python"
      ],
      "metadata": {
        "id": "5S3XGXMj02xX"
      }
    },
    {
      "cell_type": "code",
      "source": [
        "dt1 = datetime.datetime(2022,3,27,13,27,45,46000)\n",
        "print(dt1)\n",
        "\n",
        "# Output: 2022-03-27 13:27:45.046000 Let’s now create another datetime object dt2 without the second attribute. You can see that it’s set to 0 – the default value.\n",
        "\n",
        "dt2 = datetime.datetime(2022,6,30,14,28)\n",
        "print(dt2)\n",
        "\n",
        "# Output: 2022-06-30 14:28:00"
      ],
      "metadata": {
        "id": "-_oEuAjp02Tl"
      },
      "execution_count": null,
      "outputs": []
    }
  ]
}