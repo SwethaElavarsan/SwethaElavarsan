{
  "nbformat": 4,
  "nbformat_minor": 0,
  "metadata": {
    "colab": {
      "provenance": [],
      "authorship_tag": "ABX9TyNLOMH92OQ85dN1cj7l/qAA",
      "include_colab_link": true
    },
    "kernelspec": {
      "name": "python3",
      "display_name": "Python 3"
    },
    "language_info": {
      "name": "python"
    }
  },
  "cells": [
    {
      "cell_type": "markdown",
      "metadata": {
        "id": "view-in-github",
        "colab_type": "text"
      },
      "source": [
        "<a href=\"https://colab.research.google.com/github/SwethaElavarsan/SwethaElavarsan/blob/main/title%5EINTRO.ipynb\" target=\"_parent\"><img src=\"https://colab.research.google.com/assets/colab-badge.svg\" alt=\"Open In Colab\"/></a>"
      ]
    },
    {
      "cell_type": "code",
      "execution_count": 2,
      "metadata": {
        "id": "bLZ31y6DnpEP",
        "colab": {
          "base_uri": "https://localhost:8080/"
        },
        "outputId": "71fe31ec-9b85-4338-da3c-8c7a3e772a45"
      },
      "outputs": [
        {
          "output_type": "stream",
          "name": "stdout",
          "text": [
            "-15.0\n"
          ]
        }
      ],
      "source": [
        "temp = 5\n",
        "cel = 0\n",
        "fahr = float(temp)\n",
        "cel = (fahr - 32.0) * 5.0 / 9.0\n",
        "print(cel)"
      ]
    },
    {
      "cell_type": "code",
      "source": [
        "smallest = None\n",
        "print(\"Before:\", smallest)\n",
        "for itervar in [3, 41, 12, 9, 74, 15]:\n",
        "    if smallest is None or itervar < smallest:\n",
        "        smallest = itervar\n",
        "        break\n",
        "    print(\"Loop:\", itervar, smallest)\n",
        "print(\"Smallest:\", smallest)"
      ],
      "metadata": {
        "colab": {
          "base_uri": "https://localhost:8080/"
        },
        "id": "huc5flmjT26X",
        "outputId": "3dd081a1-558b-4908-a29a-3e43d293943e"
      },
      "execution_count": 3,
      "outputs": [
        {
          "output_type": "stream",
          "name": "stdout",
          "text": [
            "Before: None\n",
            "Smallest: 3\n"
          ]
        }
      ]
    },
    {
      "cell_type": "code",
      "source": [
        "word = \"bananana\"\n",
        "i = word.find(\"na\")\n",
        "print(i)"
      ],
      "metadata": {
        "colab": {
          "base_uri": "https://localhost:8080/"
        },
        "id": "7HLY25eHVZY-",
        "outputId": "70c5b6c9-9e27-4b7d-b88a-067b7a3fb144"
      },
      "execution_count": 7,
      "outputs": [
        {
          "output_type": "stream",
          "name": "stdout",
          "text": [
            "2\n"
          ]
        }
      ]
    },
    {
      "cell_type": "code",
      "source": [
        "words = 'His e-mail is q-lar@freecodecamp.org'\n",
        "pieces = words.split()\n",
        "print(pieces)\n",
        "parts = pieces[3].split('-')\n",
        "print(parts)\n",
        "n = parts[1]\n",
        "print (n)\n"
      ],
      "metadata": {
        "colab": {
          "base_uri": "https://localhost:8080/"
        },
        "id": "cdBJwezrXCID",
        "outputId": "0dadd741-211d-43bb-d6ce-37c482dc62e7"
      },
      "execution_count": 10,
      "outputs": [
        {
          "output_type": "stream",
          "name": "stdout",
          "text": [
            "['His', 'e-mail', 'is', 'q-lar@freecodecamp.org']\n",
            "['q', 'lar@freecodecamp.org']\n",
            "lar@freecodecamp.org\n"
          ]
        }
      ]
    },
    {
      "cell_type": "code",
      "source": [
        "counts = { 'quincy' : 1 , 'mrugesh' : 42, 'beau': 100, '0': 10}\n",
        "print(counts.get('kris', 0)) # get returns 0, if the value is not found"
      ],
      "metadata": {
        "colab": {
          "base_uri": "https://localhost:8080/"
        },
        "id": "NJnM7GxpX6kG",
        "outputId": "768ab94d-c162-4060-dc16-7e2b04c973c8"
      },
      "execution_count": 11,
      "outputs": [
        {
          "output_type": "stream",
          "name": "stdout",
          "text": [
            "0\n"
          ]
        }
      ]
    },
    {
      "cell_type": "code",
      "source": [
        "counts = { 'chuck' : 1 , 'annie' : 42, 'jan': 100}\n",
        "for key in counts:\n",
        "    if counts[key] > 10:\n",
        "        print(key, counts[key])"
      ],
      "metadata": {
        "colab": {
          "base_uri": "https://localhost:8080/"
        },
        "id": "4N1rAk3Safsy",
        "outputId": "955e5a94-1121-448b-a1ac-119b820e9c2c"
      },
      "execution_count": 12,
      "outputs": [
        {
          "output_type": "stream",
          "name": "stdout",
          "text": [
            "annie 42\n",
            "jan 100\n"
          ]
        }
      ]
    },
    {
      "cell_type": "code",
      "source": [
        "d = dict()\n",
        "d['quincy'] = 1\n",
        "d['beau'] = 5\n",
        "d['kris'] = 9\n",
        "for (k,i) in d.items():\n",
        "    print(k, i)"
      ],
      "metadata": {
        "id": "6oe7Pb7vbMLK"
      },
      "execution_count": null,
      "outputs": []
    }
  ]
}