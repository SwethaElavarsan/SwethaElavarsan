{
  "nbformat": 4,
  "nbformat_minor": 0,
  "metadata": {
    "colab": {
      "provenance": [],
      "authorship_tag": "ABX9TyMvHBapapjQljVaLezqpdFm",
      "include_colab_link": true
    },
    "kernelspec": {
      "name": "python3",
      "display_name": "Python 3"
    },
    "language_info": {
      "name": "python"
    }
  },
  "cells": [
    {
      "cell_type": "markdown",
      "metadata": {
        "id": "view-in-github",
        "colab_type": "text"
      },
      "source": [
        "<a href=\"https://colab.research.google.com/github/SwethaElavarsan/SwethaElavarsan/blob/main/Exercise.ipynb\" target=\"_parent\"><img src=\"https://colab.research.google.com/assets/colab-badge.svg\" alt=\"Open In Colab\"/></a>"
      ]
    },
    {
      "cell_type": "markdown",
      "source": [
        "#Username_Validation"
      ],
      "metadata": {
        "id": "UDqVFGoRwxf8"
      }
    },
    {
      "cell_type": "markdown",
      "source": [
        "1. The username is between 4 and 25 characters.\n",
        "2. It must start with a letter.\n",
        "3. It can only contain letters, numbers, and the underscore character.\n",
        "4. It cannot end with an underscore character.\n",
        "\n",
        "If the username is valid then your program should return the string true, otherwise return the string false."
      ],
      "metadata": {
        "id": "C6BKElJDBlGM"
      }
    },
    {
      "cell_type": "code",
      "source": [
        "def CodelandUsernameValidation(str):\n",
        "  if(len(str)>=4 and len(str)<=25): # The username is between 4 and 25 characters\n",
        "    if(str[0] != '_' and str[-1] != '_'): #It cannot end with an underscore character.\n",
        "     if(str[0].isalpha and str[0].isnotdigit): # It must start with a letter.\n",
        "      for i in str:\n",
        "        if(i.isalpha or i.idigit or i=='_'): # It can only contain letters, numbers, and the underscore character.\n",
        "         return \"True\"\n",
        "  else:\n",
        "    return \"False\"\n",
        "  return str\n",
        "print(CodelandUsernameValidation(input()))"
      ],
      "metadata": {
        "colab": {
          "base_uri": "https://localhost:8080/",
          "height": 339
        },
        "id": "gmrSw7gsyLu9",
        "outputId": "fdd0179a-6616-46c6-912b-b70f3fb28033"
      },
      "execution_count": 8,
      "outputs": [
        {
          "name": "stdout",
          "output_type": "stream",
          "text": [
            "7juh\n"
          ]
        },
        {
          "output_type": "error",
          "ename": "AttributeError",
          "evalue": "ignored",
          "traceback": [
            "\u001b[0;31m---------------------------------------------------------------------------\u001b[0m",
            "\u001b[0;31mAttributeError\u001b[0m                            Traceback (most recent call last)",
            "\u001b[0;32m<ipython-input-8-e5ab786770a2>\u001b[0m in \u001b[0;36m<cell line: 11>\u001b[0;34m()\u001b[0m\n\u001b[1;32m      9\u001b[0m     \u001b[0;32mreturn\u001b[0m \u001b[0;34m\"False\"\u001b[0m\u001b[0;34m\u001b[0m\u001b[0;34m\u001b[0m\u001b[0m\n\u001b[1;32m     10\u001b[0m   \u001b[0;32mreturn\u001b[0m \u001b[0mstr\u001b[0m\u001b[0;34m\u001b[0m\u001b[0;34m\u001b[0m\u001b[0m\n\u001b[0;32m---> 11\u001b[0;31m \u001b[0mprint\u001b[0m\u001b[0;34m(\u001b[0m\u001b[0mCodelandUsernameValidation\u001b[0m\u001b[0;34m(\u001b[0m\u001b[0minput\u001b[0m\u001b[0;34m(\u001b[0m\u001b[0;34m)\u001b[0m\u001b[0;34m)\u001b[0m\u001b[0;34m)\u001b[0m\u001b[0;34m\u001b[0m\u001b[0;34m\u001b[0m\u001b[0m\n\u001b[0m",
            "\u001b[0;32m<ipython-input-8-e5ab786770a2>\u001b[0m in \u001b[0;36mCodelandUsernameValidation\u001b[0;34m(str)\u001b[0m\n\u001b[1;32m      2\u001b[0m   \u001b[0;32mif\u001b[0m\u001b[0;34m(\u001b[0m\u001b[0mlen\u001b[0m\u001b[0;34m(\u001b[0m\u001b[0mstr\u001b[0m\u001b[0;34m)\u001b[0m\u001b[0;34m>=\u001b[0m\u001b[0;36m4\u001b[0m \u001b[0;32mand\u001b[0m \u001b[0mlen\u001b[0m\u001b[0;34m(\u001b[0m\u001b[0mstr\u001b[0m\u001b[0;34m)\u001b[0m\u001b[0;34m<=\u001b[0m\u001b[0;36m25\u001b[0m\u001b[0;34m)\u001b[0m\u001b[0;34m:\u001b[0m \u001b[0;31m# The username is between 4 and 25 characters\u001b[0m\u001b[0;34m\u001b[0m\u001b[0;34m\u001b[0m\u001b[0m\n\u001b[1;32m      3\u001b[0m     \u001b[0;32mif\u001b[0m\u001b[0;34m(\u001b[0m\u001b[0mstr\u001b[0m\u001b[0;34m[\u001b[0m\u001b[0;36m0\u001b[0m\u001b[0;34m]\u001b[0m \u001b[0;34m!=\u001b[0m \u001b[0;34m'_'\u001b[0m \u001b[0;32mand\u001b[0m \u001b[0mstr\u001b[0m\u001b[0;34m[\u001b[0m\u001b[0;34m-\u001b[0m\u001b[0;36m1\u001b[0m\u001b[0;34m]\u001b[0m \u001b[0;34m!=\u001b[0m \u001b[0;34m'_'\u001b[0m\u001b[0;34m)\u001b[0m\u001b[0;34m:\u001b[0m \u001b[0;31m#It cannot end with an underscore character.\u001b[0m\u001b[0;34m\u001b[0m\u001b[0;34m\u001b[0m\u001b[0m\n\u001b[0;32m----> 4\u001b[0;31m      \u001b[0;32mif\u001b[0m\u001b[0;34m(\u001b[0m\u001b[0mstr\u001b[0m\u001b[0;34m[\u001b[0m\u001b[0;36m0\u001b[0m\u001b[0;34m]\u001b[0m\u001b[0;34m.\u001b[0m\u001b[0misalpha\u001b[0m \u001b[0;32mand\u001b[0m \u001b[0mstr\u001b[0m\u001b[0;34m[\u001b[0m\u001b[0;36m0\u001b[0m\u001b[0;34m]\u001b[0m\u001b[0;34m.\u001b[0m\u001b[0misnotdigit\u001b[0m\u001b[0;34m)\u001b[0m\u001b[0;34m:\u001b[0m \u001b[0;31m# It must start with a letter.\u001b[0m\u001b[0;34m\u001b[0m\u001b[0;34m\u001b[0m\u001b[0m\n\u001b[0m\u001b[1;32m      5\u001b[0m       \u001b[0;32mfor\u001b[0m \u001b[0mi\u001b[0m \u001b[0;32min\u001b[0m \u001b[0mstr\u001b[0m\u001b[0;34m:\u001b[0m\u001b[0;34m\u001b[0m\u001b[0;34m\u001b[0m\u001b[0m\n\u001b[1;32m      6\u001b[0m         \u001b[0;32mif\u001b[0m\u001b[0;34m(\u001b[0m\u001b[0mi\u001b[0m\u001b[0;34m.\u001b[0m\u001b[0misalpha\u001b[0m \u001b[0;32mor\u001b[0m \u001b[0mi\u001b[0m\u001b[0;34m.\u001b[0m\u001b[0midigit\u001b[0m \u001b[0;32mor\u001b[0m \u001b[0mi\u001b[0m\u001b[0;34m==\u001b[0m\u001b[0;34m'_'\u001b[0m\u001b[0;34m)\u001b[0m\u001b[0;34m:\u001b[0m \u001b[0;31m# It can only contain letters, numbers, and the underscore character.\u001b[0m\u001b[0;34m\u001b[0m\u001b[0;34m\u001b[0m\u001b[0m\n",
            "\u001b[0;31mAttributeError\u001b[0m: 'str' object has no attribute 'isnotdigit'"
          ]
        }
      ]
    },
    {
      "cell_type": "code",
      "execution_count": 3,
      "metadata": {
        "colab": {
          "base_uri": "https://localhost:8080/"
        },
        "id": "qoFNgR6knmFw",
        "outputId": "aea18272-97d2-4500-8db6-255fbd888c24"
      },
      "outputs": [
        {
          "output_type": "stream",
          "name": "stdout",
          "text": [
            "\"aaa_\"\n",
            "false\n"
          ]
        }
      ],
      "source": [
        "\n",
        "def CodelandUsernameValidation(str):\n",
        "  # code goes here\n",
        "  if len(str) >= 4 and len(str) <= 25 and str[0].isalpha() and str[-1] !='_':\n",
        "    for i in str:\n",
        "      if i.isalpha() or i.isdigit() or i =='_':\n",
        "        return 'true'\n",
        "  else:\n",
        "    return 'false'\n",
        "# keep this function call here\n",
        "print (CodelandUsernameValidation(input()))"
      ]
    },
    {
      "cell_type": "code",
      "source": [
        "##Solutions for Codeland Username Validation\n",
        "\n",
        "function CodelandUsernameValidation(str) {\n",
        "  const valid_reg = /^[A-Za-z]\\w+[A-Za-z0-9]$/;\n",
        "  const valid_length = (str) => str.length >= 4 && str.length <= 25;\n",
        "  return valid_reg.test(str) && valid_length(str);\n",
        "}\n",
        "\n",
        "console.log(CodelandUsernameValidation(readline()));\n",
        "\n",
        "\n",
        "function CodelandUsernameValidation(str) {\n",
        "  const regex = /^[a-zA-Z][a-zA-Z0-9_]*[^_]$/g\n",
        "  return str.length >= 4 && str.length <= 25 && regex.test(str)\n",
        "}\n",
        "\n",
        "// keep this function call here\n",
        "console.log(CodelandUsernameValidation(readline()));\n",
        "\n",
        "RobStallion received 10 points | Run code\n",
        "15\n",
        "function CodelandUsernameValidation(str) {\n",
        "  let userRegex = /^[a-z]{1}\\w{2,23}[a-z|\\d]{1}$/ig;\n",
        "  return userRegex.test(str)\n",
        "}\n",
        "\n",
        "// keep this function call here\n",
        "console.log(CodelandUsernameValidation(readline()));\n",
        "\n",
        "Lavetchka received 10 points | Run code\n",
        "14\n",
        "function CodelandUsernameValidation(str) {\n",
        "\n",
        "  if (str.length < 4 || str.length > 25) return false;\n",
        "  if (str.charAt(str.length - 1) === '_') return false\n",
        "  if (!startsWithLetter(str.charAt(0))) return false;\n",
        "\n",
        "  for (const letter of str) {\n",
        "    if (!isAlphaNumericOrUnderscore(letter)) return false;\n",
        "  }\n",
        "\n",
        "  return true;\n",
        "\n",
        "}\n",
        "\n",
        "function startsWithLetter(char) {\n",
        "  const letter = /^[a-zA-Z]+$/;\n",
        "  return char.match(letter) ? true : false;\n",
        "}\n",
        "\n",
        "function isAlphaNumericOrUnderscore(char) {\n",
        "  const letterNumber = /^[0-9a-zA-Z]+$/;\n",
        "  return (char.match(letterNumber) || char === '_') ? true : false;\n",
        "}\n",
        "\n",
        "// keep this function call here\n",
        "console.log(CodelandUsernameValidation(readline()));\n",
        "\n",
        "lbeezyeazy received 10 points | Run code\n",
        "5\n",
        "function CodelandUsernameValidation(str) {\n",
        "\n",
        "  if(str.length>=4 && str.length<=25){\n",
        "    c = str[0];\n",
        "    if(c.toLowerCase() != c.toUpperCase()){\n",
        "      if(str.charAt(str.length-1) !== \"_\"){\n",
        "        str = true;\n",
        "      }\n",
        "      else{\n",
        "        str = false;\n",
        "      }\n",
        "    }\n",
        "    else{\n",
        "      str = false;\n",
        "    }\n",
        "  }\n",
        "  else{\n",
        "    str = false;\n",
        "  }\n",
        "  return str;\n",
        "}\n",
        "\n",
        "// keep this function call here\n",
        "console.log(CodelandUsernameValidation(readline()));\n",
        "\n",
        "Beepsies received 10 points | Run code\n",
        "2\n",
        "function CodelandUsernameValidation(str) {\n",
        "\n",
        "  if (\n",
        "    str.length >= 4 &&\n",
        "    str.length <= 25 &&\n",
        "    str[0].match(/[a-z]/i) &&\n",
        "    str.match(/^\\w+$/) &&\n",
        "    str[str.length - 1].match(/[a-zA-Z0-9.-]/)) {\n",
        "      return true;\n",
        "  } else {\n",
        "    return false;\n",
        "  }\n",
        "\n",
        "}\n",
        "console.log(CodelandUsernameValidation(readline()));\n",
        "\n",
        "function CodelandUsernameValidation(str) {\n",
        "  const letters = 'abcdefghijklmnopqrstuvwxyz'\n",
        "  const us = '_';\n",
        "  const nums = '01234567890';\n",
        "  const additionalAllowedChars = nums + us;\n",
        "  const all = [letters, additionalAllowedChars].join('')\n",
        "  const validations = [\n",
        "    (v) => v.length >= 4 && v.length <= 25,\n",
        "    (v) => letters.indexOf(v[0]) > -1,\n",
        "    (v) => v.split('').every(char => all.indexOf(char) > -1),\n",
        "    (v) => v[v.length - 1] !== us,\n",
        "  ]\n",
        "  if (validations.every(validator => validator(str))) {\n",
        "    return 'true';\n",
        "  }\n",
        "  return 'false';\n",
        "\n",
        "\n",
        "  // code goes here\n",
        "\n",
        "}\n",
        "\n",
        "// keep this function call here\n",
        "console.log(CodelandUsernameValidation(readline()));\n",
        "\n",
        "yogsky received 10 points | Run code\n",
        "2\n",
        "function CodelandUsernameValidation(str) {\n",
        "\n",
        "  var nameRegex = /^[a-zA-Z]([a-zA-Z0-9_]*[a-zA-Z0-9])?$/;\n",
        "  // code goes here\n",
        "  if ((str.length > 3) && (str.length < 26)){\n",
        "    if(str.match(nameRegex)){\n",
        "          return true;\n",
        "    }\n",
        "  }\n",
        "  return false;\n",
        "\n",
        "}\n",
        "\n",
        "// keep this function call here\n",
        "console.log(CodelandUsernameValidation(readline()));"
      ],
      "metadata": {
        "id": "1RgHCYCgs6g8"
      },
      "execution_count": null,
      "outputs": []
    },
    {
      "cell_type": "markdown",
      "source": [
        "#Bracket Combinations"
      ],
      "metadata": {
        "id": "MfesfH3J-fxy"
      }
    },
    {
      "cell_type": "markdown",
      "source": [
        "BracketCombinations(num) read num which will be an integer greater than or equal to zero, and return the number of valid combinations that can be formed with num pairs of parentheses. For example, if the input is 3, then the possible combinations of 3 pairs of parenthesis, namely: ()()(), are ()()(), ()(()), (())(), ((())), and (()()). There are 5 total combinations when the input is 3, so your program should return 5.\n",
        "Input: 3\n",
        "Output: 5"
      ],
      "metadata": {
        "id": "ypMRf8ahBUva"
      }
    },
    {
      "cell_type": "code",
      "source": [
        "def BracketCombinations(num):\n",
        "    def bracket_checker(seq):\n",
        "        opening = 0\n",
        "        closing = 0\n",
        "\n",
        "        for br in seq:\n",
        "            if br == \"(\":\n",
        "                opening += 1\n",
        "            if br == \")\":\n",
        "                if opening == 0:\n",
        "                    return False\n",
        "                else:\n",
        "                    opening -= 1\n",
        "        return True if opening == 0 else False\n",
        "\n",
        "    brackets = []\n",
        "    last = ['(']\n",
        "    if num == 0:\n",
        "        return 1\n",
        "    for _ in range(2*num-1):\n",
        "        nxt = []\n",
        "        for br in last:\n",
        "            nxt.append(br + '(')\n",
        "            nxt.append(br + ')')\n",
        "        last = nxt\n",
        "    return sum([1 if bracket_checker(br) else 0 for br in last])\n",
        "\n",
        "# keep this function call here\n",
        "print BracketCombinations(raw_input())"
      ],
      "metadata": {
        "id": "YxGkNMtR-hcr"
      },
      "execution_count": null,
      "outputs": []
    },
    {
      "cell_type": "code",
      "source": [
        "def fact(n):\n",
        "    result = 1\n",
        "    for x in range(1, n+1):\n",
        "        result *= x\n",
        "    return result\n",
        "def BracketCombinations(num):\n",
        "\n",
        "    # code goes here\n",
        "    return fact(2 * num)/(fact(num + 1)*fact(num))\n",
        "\n",
        "# keep this function call here\n",
        "print BracketCombinations(raw_input())"
      ],
      "metadata": {
        "id": "vxt-TH0b-wPC"
      },
      "execution_count": null,
      "outputs": []
    },
    {
      "cell_type": "code",
      "source": [
        "\n",
        "0\n",
        "def bc(numb, openb, closeb):\n",
        "  if (closeb==numb): return 1\n",
        "  cnt = 0\n",
        "  if (openb<numb):   cnt += bc(numb, openb+1, closeb)\n",
        "  if (closeb<openb): cnt += bc(numb, openb, closeb+1)\n",
        "  return cnt\n",
        "\n",
        "def BracketCombinations(num):\n",
        "  return bc(num,0,0)\n",
        "\n",
        "# keep this function call here\n",
        "print BracketCombinations(raw_input())"
      ],
      "metadata": {
        "id": "MzyzH5Sv-8uM"
      },
      "execution_count": null,
      "outputs": []
    },
    {
      "cell_type": "code",
      "source": [
        "def BracketCombinations(num):\n",
        "  arr = [1]\n",
        "  for i in xrange(1, num):\n",
        "      for j in xrange(1, i):\n",
        "          arr[j] += arr[j-1]\n",
        "      arr.append(arr[-1])\n",
        "  return sum(arr)\n",
        "\n",
        "\n",
        "# keep this function call here\n",
        "print BracketCombinations(raw_input())"
      ],
      "metadata": {
        "id": "x_l6N8aa_B_r"
      },
      "execution_count": null,
      "outputs": []
    },
    {
      "cell_type": "markdown",
      "source": [
        "#Longest Word"
      ],
      "metadata": {
        "id": "tj-deoxZ_vWh"
      }
    },
    {
      "cell_type": "markdown",
      "source": [
        "LongestWord(sen) take the sen parameter being passed and return the longest word in the string. If there are two or more words that are the same length, return the first word from the string with that length. Ignore punctuation and assume sen will not be empty. Words may also contain numbers, for example \"Hello world123 567\"\n",
        "Input: \"I love dogs\"\n",
        "Output: love\n"
      ],
      "metadata": {
        "id": "_oJMLuSXBJ14"
      }
    },
    {
      "cell_type": "code",
      "source": [
        "def LongestWord(sen):\n",
        "\n",
        "    # code goes here\n",
        "    maxindex = 0\n",
        "    count = 0\n",
        "    maxcount = 0\n",
        "\n",
        "    array = sen.split()\n",
        "    for index in range(len(array)):\n",
        "      array[index] = ''.join(filter(str.isalpha,  array[index]))\n",
        "      #print(array[index])\n",
        "      letters = len(array[index])\n",
        "      if letters > maxcount:\n",
        "        maxcount = letters\n",
        "        maxindex = index\n",
        "\n",
        "\n",
        "      #print(letters)\n",
        "\n",
        "    return array[maxindex]\n",
        "\n",
        "# keep this function call here\n",
        "print(LongestWord(input()))"
      ],
      "metadata": {
        "id": "-Mj5N2H8AqFJ"
      },
      "execution_count": null,
      "outputs": []
    },
    {
      "cell_type": "code",
      "source": [
        "import string\n",
        "def LongestWord(sen):\n",
        "  for char in string.punctuation:\n",
        "    sen = sen.replace(char, '')\n",
        "  wordslist = sen.split()\n",
        "  #wordssorted = sorted(wordslist, key=len)\n",
        "  # code goes here\n",
        "  return max(wordslist, key=len)\n",
        "\n",
        "# keep this function call here\n",
        "print(LongestWord(input()))"
      ],
      "metadata": {
        "id": "w8JaU-p5Ad2A"
      },
      "execution_count": null,
      "outputs": []
    },
    {
      "cell_type": "code",
      "source": [
        "def LongestWord(sen):\n",
        "    max = 0\n",
        "    for word in sen.split():\n",
        "      if (len(word) > max  and word.isalpha()):\n",
        "        max = len(word)\n",
        "        largest = word\n",
        "      # code goes here\n",
        "    return largest\n",
        "\n",
        "# keep this function call here\n",
        "print(LongestWord(input()))"
      ],
      "metadata": {
        "id": "dXcb3JxzAWGI"
      },
      "execution_count": null,
      "outputs": []
    },
    {
      "cell_type": "code",
      "source": [
        "def LongestWord(sen):\n",
        "    nw = \"\"\n",
        "    for letter in sen:\n",
        "      if letter.isalpha() or letter.isnumeric():\n",
        "        nw += letter\n",
        "      else :\n",
        "        nw += \" \"\n",
        "    return max(nw.split(),key=len)\n",
        "print(LongestWord(input()))"
      ],
      "metadata": {
        "id": "AewMtULMANMQ"
      },
      "execution_count": null,
      "outputs": []
    },
    {
      "cell_type": "code",
      "source": [
        "import re\n",
        "pattern = re.compile(r'\\W+')\n",
        "def LongestWord(sen):\n",
        "    x = pattern.split(sen)\n",
        "    return max(x, key=len)\n",
        "\n",
        "# keep this function call here\n",
        "print(LongestWord(input()))"
      ],
      "metadata": {
        "id": "LJ_tDT3jAICb"
      },
      "execution_count": null,
      "outputs": []
    },
    {
      "cell_type": "code",
      "source": [
        "def LongestWord(sen):\n",
        "    senlist=sen.split()\n",
        "    return max(senlist,key=len)\n",
        "    # code goes here\n",
        "    #return sen\n",
        "\n",
        "# keep this function call here\n",
        "print LongestWord(raw_input())"
      ],
      "metadata": {
        "id": "6ja208zo_5X_"
      },
      "execution_count": null,
      "outputs": []
    },
    {
      "cell_type": "code",
      "source": [
        "def LongestWord(sen):\n",
        "\n",
        "    # code goes here\n",
        "    return max(sen.translate(None, \"~!@#$%^&*()-_+={}[]:;'<>?/,.|`\").split(), key=len)\n",
        "\n",
        "# keep this function call here\n",
        "print LongestWord(raw_input())"
      ],
      "metadata": {
        "id": "7791cXcB_w7n"
      },
      "execution_count": null,
      "outputs": []
    }
  ]
}